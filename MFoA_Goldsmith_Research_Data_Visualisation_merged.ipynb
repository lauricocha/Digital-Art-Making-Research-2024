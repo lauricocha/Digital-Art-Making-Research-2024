{
 "cells": [
  {
   "cell_type": "code",
   "execution_count": 1,
   "id": "aa9cab74",
   "metadata": {},
   "outputs": [],
   "source": [
    "import seaborn as sns\n",
    "import pandas as pd\n",
    "%matplotlib inline\n",
    "import matplotlib.pyplot as plt\n",
    "import numpy as np"
   ]
  },
  {
   "cell_type": "code",
   "execution_count": 2,
   "id": "9de40684",
   "metadata": {},
   "outputs": [
    {
     "ename": "FileNotFoundError",
     "evalue": "[Errno 2] No such file or directory: 'Users\\\\laptop\\\\Desktop\\\\DATA\\\\MFoA-data-per-week.csv'",
     "output_type": "error",
     "traceback": [
      "\u001b[1;31m---------------------------------------------------------------------------\u001b[0m",
      "\u001b[1;31mFileNotFoundError\u001b[0m                         Traceback (most recent call last)",
      "Cell \u001b[1;32mIn[2], line 1\u001b[0m\n\u001b[1;32m----> 1\u001b[0m MFOA \u001b[38;5;241m=\u001b[39m pd\u001b[38;5;241m.\u001b[39mread_csv(\u001b[38;5;124m'\u001b[39m\u001b[38;5;124mUsers\u001b[39m\u001b[38;5;124m\\\u001b[39m\u001b[38;5;124mlaptop\u001b[39m\u001b[38;5;124m\\\u001b[39m\u001b[38;5;124mDesktop\u001b[39m\u001b[38;5;124m\\\u001b[39m\u001b[38;5;124mDATA\u001b[39m\u001b[38;5;124m\\\u001b[39m\u001b[38;5;124mMFoA-data-per-week.csv\u001b[39m\u001b[38;5;124m'\u001b[39m)\n",
      "File \u001b[1;32m~\\anaconda3\\Lib\\site-packages\\pandas\\io\\parsers\\readers.py:948\u001b[0m, in \u001b[0;36mread_csv\u001b[1;34m(filepath_or_buffer, sep, delimiter, header, names, index_col, usecols, dtype, engine, converters, true_values, false_values, skipinitialspace, skiprows, skipfooter, nrows, na_values, keep_default_na, na_filter, verbose, skip_blank_lines, parse_dates, infer_datetime_format, keep_date_col, date_parser, date_format, dayfirst, cache_dates, iterator, chunksize, compression, thousands, decimal, lineterminator, quotechar, quoting, doublequote, escapechar, comment, encoding, encoding_errors, dialect, on_bad_lines, delim_whitespace, low_memory, memory_map, float_precision, storage_options, dtype_backend)\u001b[0m\n\u001b[0;32m    935\u001b[0m kwds_defaults \u001b[38;5;241m=\u001b[39m _refine_defaults_read(\n\u001b[0;32m    936\u001b[0m     dialect,\n\u001b[0;32m    937\u001b[0m     delimiter,\n\u001b[1;32m   (...)\u001b[0m\n\u001b[0;32m    944\u001b[0m     dtype_backend\u001b[38;5;241m=\u001b[39mdtype_backend,\n\u001b[0;32m    945\u001b[0m )\n\u001b[0;32m    946\u001b[0m kwds\u001b[38;5;241m.\u001b[39mupdate(kwds_defaults)\n\u001b[1;32m--> 948\u001b[0m \u001b[38;5;28;01mreturn\u001b[39;00m _read(filepath_or_buffer, kwds)\n",
      "File \u001b[1;32m~\\anaconda3\\Lib\\site-packages\\pandas\\io\\parsers\\readers.py:611\u001b[0m, in \u001b[0;36m_read\u001b[1;34m(filepath_or_buffer, kwds)\u001b[0m\n\u001b[0;32m    608\u001b[0m _validate_names(kwds\u001b[38;5;241m.\u001b[39mget(\u001b[38;5;124m\"\u001b[39m\u001b[38;5;124mnames\u001b[39m\u001b[38;5;124m\"\u001b[39m, \u001b[38;5;28;01mNone\u001b[39;00m))\n\u001b[0;32m    610\u001b[0m \u001b[38;5;66;03m# Create the parser.\u001b[39;00m\n\u001b[1;32m--> 611\u001b[0m parser \u001b[38;5;241m=\u001b[39m TextFileReader(filepath_or_buffer, \u001b[38;5;241m*\u001b[39m\u001b[38;5;241m*\u001b[39mkwds)\n\u001b[0;32m    613\u001b[0m \u001b[38;5;28;01mif\u001b[39;00m chunksize \u001b[38;5;129;01mor\u001b[39;00m iterator:\n\u001b[0;32m    614\u001b[0m     \u001b[38;5;28;01mreturn\u001b[39;00m parser\n",
      "File \u001b[1;32m~\\anaconda3\\Lib\\site-packages\\pandas\\io\\parsers\\readers.py:1448\u001b[0m, in \u001b[0;36mTextFileReader.__init__\u001b[1;34m(self, f, engine, **kwds)\u001b[0m\n\u001b[0;32m   1445\u001b[0m     \u001b[38;5;28mself\u001b[39m\u001b[38;5;241m.\u001b[39moptions[\u001b[38;5;124m\"\u001b[39m\u001b[38;5;124mhas_index_names\u001b[39m\u001b[38;5;124m\"\u001b[39m] \u001b[38;5;241m=\u001b[39m kwds[\u001b[38;5;124m\"\u001b[39m\u001b[38;5;124mhas_index_names\u001b[39m\u001b[38;5;124m\"\u001b[39m]\n\u001b[0;32m   1447\u001b[0m \u001b[38;5;28mself\u001b[39m\u001b[38;5;241m.\u001b[39mhandles: IOHandles \u001b[38;5;241m|\u001b[39m \u001b[38;5;28;01mNone\u001b[39;00m \u001b[38;5;241m=\u001b[39m \u001b[38;5;28;01mNone\u001b[39;00m\n\u001b[1;32m-> 1448\u001b[0m \u001b[38;5;28mself\u001b[39m\u001b[38;5;241m.\u001b[39m_engine \u001b[38;5;241m=\u001b[39m \u001b[38;5;28mself\u001b[39m\u001b[38;5;241m.\u001b[39m_make_engine(f, \u001b[38;5;28mself\u001b[39m\u001b[38;5;241m.\u001b[39mengine)\n",
      "File \u001b[1;32m~\\anaconda3\\Lib\\site-packages\\pandas\\io\\parsers\\readers.py:1705\u001b[0m, in \u001b[0;36mTextFileReader._make_engine\u001b[1;34m(self, f, engine)\u001b[0m\n\u001b[0;32m   1703\u001b[0m     \u001b[38;5;28;01mif\u001b[39;00m \u001b[38;5;124m\"\u001b[39m\u001b[38;5;124mb\u001b[39m\u001b[38;5;124m\"\u001b[39m \u001b[38;5;129;01mnot\u001b[39;00m \u001b[38;5;129;01min\u001b[39;00m mode:\n\u001b[0;32m   1704\u001b[0m         mode \u001b[38;5;241m+\u001b[39m\u001b[38;5;241m=\u001b[39m \u001b[38;5;124m\"\u001b[39m\u001b[38;5;124mb\u001b[39m\u001b[38;5;124m\"\u001b[39m\n\u001b[1;32m-> 1705\u001b[0m \u001b[38;5;28mself\u001b[39m\u001b[38;5;241m.\u001b[39mhandles \u001b[38;5;241m=\u001b[39m get_handle(\n\u001b[0;32m   1706\u001b[0m     f,\n\u001b[0;32m   1707\u001b[0m     mode,\n\u001b[0;32m   1708\u001b[0m     encoding\u001b[38;5;241m=\u001b[39m\u001b[38;5;28mself\u001b[39m\u001b[38;5;241m.\u001b[39moptions\u001b[38;5;241m.\u001b[39mget(\u001b[38;5;124m\"\u001b[39m\u001b[38;5;124mencoding\u001b[39m\u001b[38;5;124m\"\u001b[39m, \u001b[38;5;28;01mNone\u001b[39;00m),\n\u001b[0;32m   1709\u001b[0m     compression\u001b[38;5;241m=\u001b[39m\u001b[38;5;28mself\u001b[39m\u001b[38;5;241m.\u001b[39moptions\u001b[38;5;241m.\u001b[39mget(\u001b[38;5;124m\"\u001b[39m\u001b[38;5;124mcompression\u001b[39m\u001b[38;5;124m\"\u001b[39m, \u001b[38;5;28;01mNone\u001b[39;00m),\n\u001b[0;32m   1710\u001b[0m     memory_map\u001b[38;5;241m=\u001b[39m\u001b[38;5;28mself\u001b[39m\u001b[38;5;241m.\u001b[39moptions\u001b[38;5;241m.\u001b[39mget(\u001b[38;5;124m\"\u001b[39m\u001b[38;5;124mmemory_map\u001b[39m\u001b[38;5;124m\"\u001b[39m, \u001b[38;5;28;01mFalse\u001b[39;00m),\n\u001b[0;32m   1711\u001b[0m     is_text\u001b[38;5;241m=\u001b[39mis_text,\n\u001b[0;32m   1712\u001b[0m     errors\u001b[38;5;241m=\u001b[39m\u001b[38;5;28mself\u001b[39m\u001b[38;5;241m.\u001b[39moptions\u001b[38;5;241m.\u001b[39mget(\u001b[38;5;124m\"\u001b[39m\u001b[38;5;124mencoding_errors\u001b[39m\u001b[38;5;124m\"\u001b[39m, \u001b[38;5;124m\"\u001b[39m\u001b[38;5;124mstrict\u001b[39m\u001b[38;5;124m\"\u001b[39m),\n\u001b[0;32m   1713\u001b[0m     storage_options\u001b[38;5;241m=\u001b[39m\u001b[38;5;28mself\u001b[39m\u001b[38;5;241m.\u001b[39moptions\u001b[38;5;241m.\u001b[39mget(\u001b[38;5;124m\"\u001b[39m\u001b[38;5;124mstorage_options\u001b[39m\u001b[38;5;124m\"\u001b[39m, \u001b[38;5;28;01mNone\u001b[39;00m),\n\u001b[0;32m   1714\u001b[0m )\n\u001b[0;32m   1715\u001b[0m \u001b[38;5;28;01massert\u001b[39;00m \u001b[38;5;28mself\u001b[39m\u001b[38;5;241m.\u001b[39mhandles \u001b[38;5;129;01mis\u001b[39;00m \u001b[38;5;129;01mnot\u001b[39;00m \u001b[38;5;28;01mNone\u001b[39;00m\n\u001b[0;32m   1716\u001b[0m f \u001b[38;5;241m=\u001b[39m \u001b[38;5;28mself\u001b[39m\u001b[38;5;241m.\u001b[39mhandles\u001b[38;5;241m.\u001b[39mhandle\n",
      "File \u001b[1;32m~\\anaconda3\\Lib\\site-packages\\pandas\\io\\common.py:863\u001b[0m, in \u001b[0;36mget_handle\u001b[1;34m(path_or_buf, mode, encoding, compression, memory_map, is_text, errors, storage_options)\u001b[0m\n\u001b[0;32m    858\u001b[0m \u001b[38;5;28;01melif\u001b[39;00m \u001b[38;5;28misinstance\u001b[39m(handle, \u001b[38;5;28mstr\u001b[39m):\n\u001b[0;32m    859\u001b[0m     \u001b[38;5;66;03m# Check whether the filename is to be opened in binary mode.\u001b[39;00m\n\u001b[0;32m    860\u001b[0m     \u001b[38;5;66;03m# Binary mode does not support 'encoding' and 'newline'.\u001b[39;00m\n\u001b[0;32m    861\u001b[0m     \u001b[38;5;28;01mif\u001b[39;00m ioargs\u001b[38;5;241m.\u001b[39mencoding \u001b[38;5;129;01mand\u001b[39;00m \u001b[38;5;124m\"\u001b[39m\u001b[38;5;124mb\u001b[39m\u001b[38;5;124m\"\u001b[39m \u001b[38;5;129;01mnot\u001b[39;00m \u001b[38;5;129;01min\u001b[39;00m ioargs\u001b[38;5;241m.\u001b[39mmode:\n\u001b[0;32m    862\u001b[0m         \u001b[38;5;66;03m# Encoding\u001b[39;00m\n\u001b[1;32m--> 863\u001b[0m         handle \u001b[38;5;241m=\u001b[39m \u001b[38;5;28mopen\u001b[39m(\n\u001b[0;32m    864\u001b[0m             handle,\n\u001b[0;32m    865\u001b[0m             ioargs\u001b[38;5;241m.\u001b[39mmode,\n\u001b[0;32m    866\u001b[0m             encoding\u001b[38;5;241m=\u001b[39mioargs\u001b[38;5;241m.\u001b[39mencoding,\n\u001b[0;32m    867\u001b[0m             errors\u001b[38;5;241m=\u001b[39merrors,\n\u001b[0;32m    868\u001b[0m             newline\u001b[38;5;241m=\u001b[39m\u001b[38;5;124m\"\u001b[39m\u001b[38;5;124m\"\u001b[39m,\n\u001b[0;32m    869\u001b[0m         )\n\u001b[0;32m    870\u001b[0m     \u001b[38;5;28;01melse\u001b[39;00m:\n\u001b[0;32m    871\u001b[0m         \u001b[38;5;66;03m# Binary mode\u001b[39;00m\n\u001b[0;32m    872\u001b[0m         handle \u001b[38;5;241m=\u001b[39m \u001b[38;5;28mopen\u001b[39m(handle, ioargs\u001b[38;5;241m.\u001b[39mmode)\n",
      "\u001b[1;31mFileNotFoundError\u001b[0m: [Errno 2] No such file or directory: 'Users\\\\laptop\\\\Desktop\\\\DATA\\\\MFoA-data-per-week.csv'"
     ]
    }
   ],
   "source": [
    "MFOA = pd.read_csv('Users\\laptop\\Desktop\\DATA\\MFoA-data-per-week.csv')"
   ]
  },
  {
   "cell_type": "code",
   "execution_count": null,
   "id": "cbc2c74a",
   "metadata": {},
   "outputs": [],
   "source": [
    "MFOA.info()      "
   ]
  },
  {
   "cell_type": "code",
   "execution_count": null,
   "id": "0378c1fc",
   "metadata": {},
   "outputs": [],
   "source": [
    "MFOA.head(22)"
   ]
  },
  {
   "cell_type": "code",
   "execution_count": null,
   "id": "2fca5792",
   "metadata": {},
   "outputs": [],
   "source": [
    "MFOA.describe()"
   ]
  },
  {
   "cell_type": "code",
   "execution_count": null,
   "id": "0d424d2a",
   "metadata": {},
   "outputs": [],
   "source": [
    "MFOA.isna()"
   ]
  },
  {
   "cell_type": "code",
   "execution_count": null,
   "id": "b304206f",
   "metadata": {},
   "outputs": [],
   "source": [
    "MFOA.info()"
   ]
  },
  {
   "cell_type": "code",
   "execution_count": null,
   "id": "d7b4c7bf",
   "metadata": {},
   "outputs": [],
   "source": [
    "import plotly.express as px\n",
    "import pandas as pd\n",
    "df = pd.read_csv('/users/lauragallo/Desktop/DATA/MFoA-data-per-week.csv')\n",
    "fig = px.scatter(df, x=\"VAIAK\", y=\"STAI-T0\", color=\"Initial_Anxiety_level\",\n",
    "                 size='STAI-T0', hover_data=['VAIAK'])\n",
    "fig.update_yaxes(range=[15, 80])\n",
    "fig.update_layout(\n",
    "    height=600, \n",
    "    width=490, \n",
    "    showlegend=False,\n",
    "    title=dict(\n",
    "        text=\"Initial STAI score\",\n",
    "        x=0.5,  # Center the title horizontally\n",
    "        xanchor='center',\n",
    "        yanchor='top'\n",
    "    ),\n",
    "    title_font=dict(size=22)\n",
    ")\n",
    "fig.show()"
   ]
  },
  {
   "cell_type": "code",
   "execution_count": null,
   "id": "4820d095",
   "metadata": {},
   "outputs": [],
   "source": [
    "import plotly.express as px\n",
    "import pandas as pd\n",
    "df = pd.read_csv('/users/lauragallo/Desktop/DATA/MFoA-data-per-week.csv')\n",
    "fig = px.scatter(df, x=\"VAIAK\", y=\"Last_Recorded_STAI\", color=\"Final_Anxiety_Level\",\n",
    "                 size='Last_Recorded_STAI', hover_data=['VAIAK'])\n",
    "fig.update_yaxes(range=[15, 80])\n",
    "fig.update_layout(\n",
    "    height=600, \n",
    "    width=630, \n",
    "    showlegend=True,\n",
    "    title=dict(\n",
    "        text=\"Final STAI score\",\n",
    "        x=0.4,  # Center the title horizontally\n",
    "        xanchor='center',\n",
    "        yanchor='top'\n",
    "    ),\n",
    "    title_font=dict(size=22)\n",
    ")\n",
    "\n",
    "fig.show()"
   ]
  },
  {
   "cell_type": "code",
   "execution_count": null,
   "id": "b2d6a86d",
   "metadata": {},
   "outputs": [],
   "source": [
    "import plotly.express as px\n",
    "import pandas as pd\n",
    "df = pd.read_csv('/users/lauragallo/Desktop/DATA/MFoA-data-per-week.csv')\n",
    "fig = px.scatter(df, x=\"SSCS\", y=\"STAI-T0\", color=\"Initial_Anxiety_level\",\n",
    "                 size='STAI-T0', hover_data=['SSCS'])\n",
    "fig.update_layout(\n",
    "    height=600, \n",
    "    width=490, \n",
    "    showlegend=False,\n",
    "    title=dict(\n",
    "        text=\"Initial STAI score\",\n",
    "        x=0.5,  # Center the title horizontally\n",
    "        xanchor='center',\n",
    "        yanchor='top'\n",
    "    ),\n",
    "    title_font=dict(size=22)\n",
    "    )\n",
    "fig.show()"
   ]
  },
  {
   "cell_type": "code",
   "execution_count": null,
   "id": "e0b12ad7",
   "metadata": {},
   "outputs": [],
   "source": [
    "import plotly.express as px\n",
    "import pandas as pd\n",
    "df = pd.read_csv('/users/lauragallo/Desktop/DATA/MFoA-data-per-week.csv')\n",
    "fig = px.scatter(df, x=\"SSCS\", y=\"Last_Recorded_STAI\", color=\"Final_Anxiety_Level\",\n",
    "                 size='Last_Recorded_STAI', hover_data=['SSCS'])\n",
    "fig.update_yaxes(range=[15, 80])\n",
    "fig.update_layout(\n",
    "    height=600, \n",
    "    width=630, \n",
    "    showlegend=True,\n",
    "    title=dict(\n",
    "        text=\"Final STAI score\",\n",
    "        x=0.4,  # Center the title horizontally\n",
    "        xanchor='center',\n",
    "        yanchor='top'\n",
    "    ),\n",
    "    title_font=dict(size=22)\n",
    ")\n",
    "fig.show()"
   ]
  },
  {
   "cell_type": "code",
   "execution_count": null,
   "id": "e402fd8b",
   "metadata": {},
   "outputs": [],
   "source": [
    "import plotly.graph_objects as go\n",
    "\n",
    "import pandas as pd\n",
    "\n",
    "df = pd.read_csv('/users/lauragallo/Desktop/DATA/MFoA-data-per-week.csv')\n",
    "\n",
    "fig = go.Figure()\n",
    "\n",
    "Weeks_done = ['8 wks', '5-4 wks', '3-2 wks', '1 wk', '0 wks']\n",
    "\n",
    "for Weeks_done in Weeks_done:\n",
    "    fig.add_trace(go.Violin(x=df['Weeks_done'][df['Weeks_done'] == Weeks_done],\n",
    "                            y=df['STAI-change'][df['Weeks_done'] == Weeks_done],\n",
    "                            name=Weeks_done,\n",
    "                            box_visible=True,\n",
    "                            meanline_visible=True))\n",
    "    \n",
    "    fig.update_layout(title=\"Effect of Intervention on Anxiety Reduction Over Weeks Completed\",\n",
    "    title_font=dict(size=22))\n",
    "    \n",
    "    fig.add_annotation(\n",
    "    text=\"Chi-squared statistic: 151.58<br>P-value: 0.296<br>Degrees of freedom: 143\",\n",
    "    x=2,  # Adjust the x and y values for proper positioning\n",
    "    y=-24,\n",
    "    showarrow=False,\n",
    "    font=dict(size=16),  # Adjust the font size as needed\n",
    ")\n",
    "\n",
    "fig.show()"
   ]
  },
  {
   "cell_type": "code",
   "execution_count": null,
   "id": "75c27e6b",
   "metadata": {},
   "outputs": [],
   "source": [
    "cols = ['Initial_Anxiety_level','STAI-change','Weeks_done']\n",
    "ComValue = df[cols]"
   ]
  },
  {
   "cell_type": "code",
   "execution_count": null,
   "id": "67668344",
   "metadata": {},
   "outputs": [],
   "source": [
    "ComValue"
   ]
  },
  {
   "cell_type": "code",
   "execution_count": null,
   "id": "0c04a2ab",
   "metadata": {},
   "outputs": [],
   "source": [
    "df2 = ComValue.loc[(df['Weeks_done'] !='Zero')]\n",
    "df2"
   ]
  },
  {
   "cell_type": "code",
   "execution_count": null,
   "id": "0a976000",
   "metadata": {},
   "outputs": [],
   "source": [
    "import plotly.graph_objects as go\n",
    "\n",
    "import pandas as pd\n",
    "\n",
    "df = pd.read_csv('/users/lauragallo/Desktop/DATA/MFoA-data-per-week.csv')\n",
    "\n",
    "fig = go.Figure()\n",
    "\n",
    "Anxiety_level = ['low_anxiety', 'moderate_anxiety', 'high_anxiety']\n",
    "\n",
    "for Anxiety_level in Anxiety_level:\n",
    "    fig.add_trace(go.Violin(x=df2['Initial_Anxiety_level'][df['Initial_Anxiety_level'] == Anxiety_level],\n",
    "                            y=df2['STAI-change'][df['Initial_Anxiety_level'] == Anxiety_level],\n",
    "                            name=Anxiety_level,\n",
    "                            box_visible=True,\n",
    "                            meanline_visible=True))\n",
    "    \n",
    "    fig.update_layout(title=\"Effect of Intervention on Lowering Anxiety Across Various Initial Anxiety Levels\",\n",
    "    title_font=dict(size=22))\n",
    "    \n",
    "    fig.add_annotation(\n",
    "    text=\"Chi-squared statistic: 18.42<br>P-value: 0.00102<br>Degrees of freedom: 4\",\n",
    "    x=0.2,  # Adjust the x and y values for proper positioning\n",
    "    y=-22,\n",
    "    showarrow=False,\n",
    "    font=dict(size=16),  # Adjust the font size as needed\n",
    ")\n",
    "\n",
    "fig.show()"
   ]
  },
  {
   "cell_type": "code",
   "execution_count": null,
   "id": "11991c6e",
   "metadata": {},
   "outputs": [],
   "source": [
    "columns_to_drop = ['Age', 'STAI-T0', 'STAI-T1', 'Liking', 'Application', 'Gender', 'Ethnicity ID', 'Weeks_done','VAIAK', 'SSCS']  # Replace with the actual column names\n",
    "Anxiety = MFOA.drop(columns_to_drop, axis=1)\n",
    "\n",
    "Anxiety"
   ]
  },
  {
   "cell_type": "code",
   "execution_count": null,
   "id": "b0ead58a",
   "metadata": {},
   "outputs": [],
   "source": [
    "Anxiety.corr()"
   ]
  },
  {
   "cell_type": "code",
   "execution_count": null,
   "id": "36052bb7",
   "metadata": {},
   "outputs": [],
   "source": [
    "corr = Anxiety.corr().round(2)\n",
    "\n",
    "# plot the heatmap\n",
    "plt.figure(figsize = (8,6))\n",
    "\n",
    "#viz the heatmap\n",
    "sns.heatmap(corr, annot= True)"
   ]
  },
  {
   "cell_type": "code",
   "execution_count": null,
   "id": "f6634e9c",
   "metadata": {},
   "outputs": [],
   "source": [
    "columns_to_drop = ['Age', 'STAI-T0', 'STAI-T1', 'Liking', 'Application', 'Gender', 'Ethnicity ID', 'Weeks_Completed']  # Replace with the actual column names\n",
    "Artsy = MFOA.drop(columns_to_drop, axis=1)\n",
    "\n",
    "Artsy"
   ]
  },
  {
   "cell_type": "code",
   "execution_count": null,
   "id": "c2c171a5",
   "metadata": {},
   "outputs": [],
   "source": [
    "Artsy.corr()"
   ]
  },
  {
   "cell_type": "code",
   "execution_count": null,
   "id": "3cc9fccf",
   "metadata": {},
   "outputs": [],
   "source": [
    "corr = Artsy.corr().round(2)\n",
    "\n",
    "# plot the heatmap\n",
    "plt.figure(figsize = (8,6))\n",
    "\n",
    "#viz the heatmap\n",
    "sns.heatmap(corr, annot= True)"
   ]
  },
  {
   "cell_type": "code",
   "execution_count": null,
   "id": "be5b746b",
   "metadata": {},
   "outputs": [],
   "source": [
    "# Define a custom color palette (you can replace these with your desired colors)\n",
    "custom_palette = [\"#7c1c5b\"]\n",
    "\n",
    "# Set the custom color palette\n",
    "sns.set_palette(custom_palette)\n",
    "ax = corr['STAI-change'].sort_values()[:-1].plot(kind = 'bar', figsize = (10,6))\n",
    "ax.set_title('Spearman Correlation', loc='left', y=1.05)\n",
    "\n",
    "ax.bar_label(ax.containers[0]);"
   ]
  },
  {
   "cell_type": "code",
   "execution_count": null,
   "id": "e8541418",
   "metadata": {},
   "outputs": [],
   "source": [
    "  pip install pandas scipy"
   ]
  },
  {
   "cell_type": "code",
   "execution_count": null,
   "id": "3666312a",
   "metadata": {},
   "outputs": [],
   "source": [
    "cols = ['VAIAK','STAI-change','Weeks_done']\n",
    "ComValue = MFOA[cols]"
   ]
  },
  {
   "cell_type": "code",
   "execution_count": null,
   "id": "03a70015",
   "metadata": {},
   "outputs": [],
   "source": [
    "ComValue"
   ]
  },
  {
   "cell_type": "code",
   "execution_count": null,
   "id": "3ad58eed",
   "metadata": {},
   "outputs": [],
   "source": [
    "df3 = ComValue.loc[(MFOA['Weeks_done'] !='Zero')]\n",
    "df3"
   ]
  },
  {
   "cell_type": "code",
   "execution_count": null,
   "id": "c29bdc8d",
   "metadata": {},
   "outputs": [],
   "source": [
    "df3.describe()"
   ]
  },
  {
   "cell_type": "code",
   "execution_count": null,
   "id": "9c8baaa9",
   "metadata": {},
   "outputs": [],
   "source": [
    "contingency_table = pd.crosstab(df3['VAIAK'], df3['STAI-change'])"
   ]
  },
  {
   "cell_type": "code",
   "execution_count": null,
   "id": "3d21084e",
   "metadata": {},
   "outputs": [],
   "source": [
    "from scipy.stats import chi2_contingency\n",
    "\n",
    "chi2, p, dof, expected = chi2_contingency(contingency_table)\n",
    "\n",
    "# Output the results\n",
    "print(f\"Chi-squared statistic: {chi2}\")\n",
    "print(f\"P-value: {p}\")\n",
    "print(f\"Degrees of freedom: {dof}\")\n",
    "print(\"Expected frequencies:\")\n",
    "print(expected)"
   ]
  },
  {
   "cell_type": "code",
   "execution_count": null,
   "id": "602b2bf8",
   "metadata": {},
   "outputs": [],
   "source": [
    "correlation = df3['VAIAK'].corr(df3['STAI-change'])"
   ]
  },
  {
   "cell_type": "code",
   "execution_count": null,
   "id": "12def747",
   "metadata": {},
   "outputs": [],
   "source": [
    "# Check the correlation\n",
    "if correlation == 0:\n",
    "    print(\"There is no linear correlation between the two columns.\")\n",
    "else:\n",
    "    print(f\"There is a correlation of {correlation:.2f} between the two columns.\")\n"
   ]
  },
  {
   "cell_type": "code",
   "execution_count": null,
   "id": "a2cf4828",
   "metadata": {},
   "outputs": [],
   "source": [
    "from scipy.stats import pearsonr\n",
    "correlation, p_value = pearsonr(df3['VAIAK'], df3['STAI-change'])"
   ]
  },
  {
   "cell_type": "code",
   "execution_count": null,
   "id": "24526913",
   "metadata": {},
   "outputs": [],
   "source": [
    "correlation_coefficient, p_value = pearsonr(df3['VAIAK'], df3['STAI-change'])\n",
    "\n",
    "# Output the results\n",
    "print(f\"Pearson correlation coefficient (r): {correlation_coefficient}\")\n",
    "print(f\"P-value: {p_value}\")"
   ]
  },
  {
   "cell_type": "code",
   "execution_count": null,
   "id": "97bdc5cf",
   "metadata": {},
   "outputs": [],
   "source": [
    "if p_value < 0.05:  # You can adjust the significance level (alpha) as needed\n",
    "    print(f\"There is a statistically significant correlation of {correlation:.2f} between the two columns.\")\n",
    "else:\n",
    "    print(f\"There is no statistically significant correlation between the two columns.\")"
   ]
  },
  {
   "cell_type": "code",
   "execution_count": null,
   "id": "bd8593b3",
   "metadata": {},
   "outputs": [],
   "source": [
    "MFOA = pd.read_csv('/users/lauragallo/Desktop/DATA/MFoA-data-per-week.csv')"
   ]
  },
  {
   "cell_type": "code",
   "execution_count": null,
   "id": "250865a3",
   "metadata": {},
   "outputs": [],
   "source": [
    "cols = ['SSCS','STAI-change','Weeks_done']\n",
    "ComValue = MFOA[cols]"
   ]
  },
  {
   "cell_type": "code",
   "execution_count": null,
   "id": "6aea557a",
   "metadata": {},
   "outputs": [],
   "source": [
    "ComValue"
   ]
  },
  {
   "cell_type": "code",
   "execution_count": null,
   "id": "8d418fb1",
   "metadata": {},
   "outputs": [],
   "source": [
    "df4 = ComValue.loc[(MFOA['Weeks_done'] !='Zero')]\n",
    "df4"
   ]
  },
  {
   "cell_type": "code",
   "execution_count": null,
   "id": "3705b969",
   "metadata": {},
   "outputs": [],
   "source": [
    "contingency_table = pd.crosstab(df4['SSCS'], df4['STAI-change'])"
   ]
  },
  {
   "cell_type": "code",
   "execution_count": null,
   "id": "af7a8e74",
   "metadata": {},
   "outputs": [],
   "source": [
    "from scipy.stats import chi2_contingency\n",
    "\n",
    "chi2, p, dof, expected = chi2_contingency(contingency_table)\n",
    "\n",
    "# Output the results\n",
    "print(f\"Chi-squared statistic: {chi2}\")\n",
    "print(f\"P-value: {p}\")\n",
    "print(f\"Degrees of freedom: {dof}\")\n",
    "print(\"Expected frequencies:\")\n",
    "print(expected)"
   ]
  },
  {
   "cell_type": "code",
   "execution_count": null,
   "id": "4cf8a12e",
   "metadata": {},
   "outputs": [],
   "source": [
    "correlation = df4['SSCS'].corr(df4['STAI-change'])"
   ]
  },
  {
   "cell_type": "code",
   "execution_count": null,
   "id": "db4952f2",
   "metadata": {},
   "outputs": [],
   "source": [
    "# Check the correlation\n",
    "if correlation == 0:\n",
    "    print(\"There is no linear correlation between the two columns.\")\n",
    "else:\n",
    "    print(f\"There is a correlation of {correlation:.2f} between the two columns.\")"
   ]
  },
  {
   "cell_type": "code",
   "execution_count": null,
   "id": "c923f6a4",
   "metadata": {},
   "outputs": [],
   "source": [
    "from scipy.stats import pearsonr\n",
    "correlation, p_value = pearsonr(df4['SSCS'], df4['STAI-change'])"
   ]
  },
  {
   "cell_type": "code",
   "execution_count": null,
   "id": "98df9b7f",
   "metadata": {},
   "outputs": [],
   "source": [
    "correlation_coefficient, p_value = pearsonr(df4['SSCS'], df4['STAI-change'])\n",
    "\n",
    "# Output the results\n",
    "print(f\"Pearson correlation coefficient (r): {correlation_coefficient}\")\n",
    "print(f\"P-value: {p_value}\")"
   ]
  },
  {
   "cell_type": "code",
   "execution_count": null,
   "id": "658a2913",
   "metadata": {},
   "outputs": [],
   "source": [
    "if p_value < 0.05:  # You can adjust the significance level (alpha) as needed\n",
    "    print(f\"There is a statistically significant correlation of {correlation:.2f} between the two columns.\")\n",
    "else:\n",
    "    print(f\"There is no statistically significant correlation between the two columns.\")    "
   ]
  },
  {
   "cell_type": "code",
   "execution_count": null,
   "id": "f7335e2d",
   "metadata": {},
   "outputs": [],
   "source": [
    "df4.describe()"
   ]
  },
  {
   "cell_type": "code",
   "execution_count": null,
   "id": "b8a3603e",
   "metadata": {},
   "outputs": [],
   "source": [
    "contingency_table = pd.crosstab(MFOA['Weeks_Completed'], MFOA['STAI-change'])"
   ]
  },
  {
   "cell_type": "code",
   "execution_count": null,
   "id": "9e90bdfe",
   "metadata": {},
   "outputs": [],
   "source": [
    "from scipy.stats import chi2_contingency\n",
    "\n",
    "chi2, p, dof, expected = chi2_contingency(contingency_table)\n",
    "\n",
    "# Output the results\n",
    "print(f\"Chi-squared statistic: {chi2}\")\n",
    "print(f\"P-value: {p}\")\n",
    "print(f\"Degrees of freedom: {dof}\")\n",
    "print(\"Expected frequencies:\")\n",
    "print(expected)"
   ]
  },
  {
   "cell_type": "code",
   "execution_count": null,
   "id": "fe55aefd",
   "metadata": {},
   "outputs": [],
   "source": [
    "correlation = MFOA['Weeks_Completed'].corr(MFOA['STAI-change'])"
   ]
  },
  {
   "cell_type": "code",
   "execution_count": null,
   "id": "6a7e85e7",
   "metadata": {},
   "outputs": [],
   "source": [
    "# Check the correlation\n",
    "if correlation == 0:\n",
    "    print(\"There is no linear correlation between the two columns.\")\n",
    "else:\n",
    "    print(f\"There is a correlation of {correlation:.2f} between the two columns.\")"
   ]
  },
  {
   "cell_type": "code",
   "execution_count": null,
   "id": "92f41b3b",
   "metadata": {},
   "outputs": [],
   "source": [
    "from scipy.stats import pearsonr\n",
    "correlation, p_value = pearsonr(MFOA['Weeks_Completed'], MFOA['STAI-change'])"
   ]
  },
  {
   "cell_type": "code",
   "execution_count": null,
   "id": "4537628c",
   "metadata": {},
   "outputs": [],
   "source": [
    "correlation_coefficient, p_value = pearsonr(MFOA['Weeks_Completed'], MFOA['STAI-change'])\n",
    "\n",
    "# Output the results\n",
    "print(f\"Pearson correlation coefficient (r): {correlation_coefficient}\")\n",
    "print(f\"P-value: {p_value}\")"
   ]
  },
  {
   "cell_type": "code",
   "execution_count": null,
   "id": "ef03a7d6",
   "metadata": {},
   "outputs": [],
   "source": [
    "Weekly = pd.read_csv('/users/lauragallo/Desktop/DATA/MFoA-data-weekly.csv')"
   ]
  },
  {
   "cell_type": "code",
   "execution_count": null,
   "id": "24eb9356",
   "metadata": {},
   "outputs": [],
   "source": [
    "Weekly.info()   "
   ]
  },
  {
   "cell_type": "code",
   "execution_count": null,
   "id": "2e228cb0",
   "metadata": {},
   "outputs": [],
   "source": [
    "Weekly.head(23)"
   ]
  },
  {
   "cell_type": "code",
   "execution_count": null,
   "id": "7261c200",
   "metadata": {},
   "outputs": [],
   "source": [
    "Weekly.describe()"
   ]
  },
  {
   "cell_type": "code",
   "execution_count": null,
   "id": "4123f5ac",
   "metadata": {},
   "outputs": [],
   "source": [
    "Weekly.isna()"
   ]
  },
  {
   "cell_type": "code",
   "execution_count": null,
   "id": "62e12767",
   "metadata": {},
   "outputs": [],
   "source": [
    "columns_to_drop = ['FLOW', 'Arousal', 'Positivity']  # Replace with the actual column names\n",
    "STAI = Weekly.drop(columns_to_drop, axis=1)\n",
    "\n",
    "STAI"
   ]
  },
  {
   "cell_type": "code",
   "execution_count": null,
   "id": "dc9fe821",
   "metadata": {},
   "outputs": [],
   "source": [
    "Weekly.corr()"
   ]
  },
  {
   "cell_type": "code",
   "execution_count": null,
   "id": "ce15870f",
   "metadata": {},
   "outputs": [],
   "source": [
    "corr = Weekly.corr().round(2)\n",
    "\n",
    "# plot the heatmap\n",
    "plt.figure(figsize = (15,10))\n",
    "\n",
    "#viz the heatmap\n",
    "sns.heatmap(corr, annot= True)"
   ]
  },
  {
   "cell_type": "code",
   "execution_count": null,
   "id": "5f44b32b",
   "metadata": {},
   "outputs": [],
   "source": [
    "# Define a custom color palette (you can replace these with your desired colors)\n",
    "custom_palette = [\"#7c1c5b\"]\n",
    "\n",
    "# Set the custom color palette\n",
    "sns.set_palette(custom_palette)\n",
    "ax = corr['Week_number'].sort_values()[:-1].plot(kind = 'bar', figsize = (10,6))\n",
    "ax.set_title('Spearman Correlation of Weekly Survey Results', loc='left', y=1.05)\n",
    "\n",
    "ax.bar_label(ax.containers[0]);"
   ]
  },
  {
   "cell_type": "code",
   "execution_count": null,
   "id": "bc176554",
   "metadata": {},
   "outputs": [],
   "source": [
    "import numpy as np\n",
    "\n",
    "# Example demographic and measurement data\n",
    "demographic_data = {\n",
    "    'Age': [52,23,20,72,24,28,57,32,26,28,50,51,61,25,19,31,56,31,53,24,25,23],\n",
    "    'Gender': ['Female','Non-binary','Female','Female','Female','Male','Male','Female','Female','Female','Male','Female','Female','Male','Prefer not to say','Female','Male','Female','Male','Male','Female','Female'],\n",
    "    'Ethnicity': ['HispLat','White','Asian','White','White','White','White','Asian','HispLat','Mixed','Mixed','White','Other','HispLat','HispLat','Asian','HispLat','White','Asian','White','White','White'],\n",
    "}\n",
    "\n",
    "\n",
    "measurement_data = [8,-2,1,-5,-12,-18,5,0,-6,-3,-10,-8,-12,-12,-2,-3,7]\n",
    "\n",
    "# Calculate Mean (Mage), Standard Deviation (SD), and Range\n",
    "mage = np.mean(np.abs(np.array(measurement_data)))\n",
    "sd = np.std(measurement_data)\n",
    "data_range = np.ptp(measurement_data)\n",
    "\n",
    "print(\"Mean Absolute Gross Error (Mage):\", mage)\n",
    "print(\"Standard Deviation (SD):\", sd)\n",
    "print(\"Range:\", data_range)"
   ]
  },
  {
   "cell_type": "code",
   "execution_count": null,
   "id": "1c290812",
   "metadata": {},
   "outputs": [],
   "source": [
    "WeeklyV2 = pd.read_csv('/users/lauragallo/Desktop/DATA/MFoA-data-weeklyV2.csv')"
   ]
  },
  {
   "cell_type": "code",
   "execution_count": null,
   "id": "97b362f5",
   "metadata": {},
   "outputs": [],
   "source": [
    "WeeklyV2.info()   "
   ]
  },
  {
   "cell_type": "code",
   "execution_count": null,
   "id": "64eed27d",
   "metadata": {},
   "outputs": [],
   "source": [
    "WeeklyV2.head(22)"
   ]
  },
  {
   "cell_type": "code",
   "execution_count": null,
   "id": "c58e3fe1",
   "metadata": {},
   "outputs": [],
   "source": [
    "WeeklyV2.describe()"
   ]
  },
  {
   "cell_type": "code",
   "execution_count": null,
   "id": "1188a157",
   "metadata": {},
   "outputs": [],
   "source": [
    "WeeklyV2.isna()"
   ]
  },
  {
   "cell_type": "code",
   "execution_count": null,
   "id": "fe9149ee",
   "metadata": {},
   "outputs": [],
   "source": [
    "pip install pandas scipy"
   ]
  },
  {
   "cell_type": "code",
   "execution_count": null,
   "id": "ba07a197",
   "metadata": {},
   "outputs": [],
   "source": [
    "contingency_table = pd.crosstab(WeeklyV2['Pre_Intervention'], WeeklyV2['Post_Intervention'])"
   ]
  },
  {
   "cell_type": "code",
   "execution_count": null,
   "id": "e4fb73b5",
   "metadata": {},
   "outputs": [],
   "source": [
    "from scipy.stats import chi2_contingency\n",
    "\n",
    "chi2, p, dof, expected = chi2_contingency(contingency_table)\n",
    "\n",
    "# Output the results Figure 4B\n",
    "print(f\"Chi-squared statistic: {chi2}\")\n",
    "print(f\"P-value: {p}\")\n",
    "print(f\"Degrees of freedom: {dof}\")\n",
    "print(\"Expected frequencies:\")\n",
    "print(expected)"
   ]
  },
  {
   "cell_type": "code",
   "execution_count": null,
   "id": "c05938e1",
   "metadata": {},
   "outputs": [],
   "source": [
    "from scipy.stats import pearsonr\n",
    "correlation, p_value = pearsonr(WeeklyV2['Pre_Intervention'], WeeklyV2['Post_Intervention'])"
   ]
  },
  {
   "cell_type": "code",
   "execution_count": null,
   "id": "90919a9a",
   "metadata": {},
   "outputs": [],
   "source": [
    "correlation_coefficient, p_value = pearsonr(WeeklyV2['Pre_Intervention'], WeeklyV2['Post_Intervention'])\n",
    "\n",
    "# Output the results Figure 4B\n",
    "print(f\"Pearson correlation coefficient (r): {correlation_coefficient}\")\n",
    "print(f\"P-value: {p_value}\")"
   ]
  },
  {
   "cell_type": "code",
   "execution_count": null,
   "id": "2f6b2d00",
   "metadata": {},
   "outputs": [],
   "source": [
    "contingency_table = pd.crosstab(WeeklyV2['Initial_STAI'], WeeklyV2['Final_STAI'])"
   ]
  },
  {
   "cell_type": "code",
   "execution_count": null,
   "id": "7140d196",
   "metadata": {},
   "outputs": [],
   "source": [
    "from scipy.stats import chi2_contingency\n",
    "\n",
    "chi2, p, dof, expected = chi2_contingency(contingency_table)\n",
    "\n",
    "# Output the results Figure 4A\n",
    "print(f\"Chi-squared statistic: {chi2}\")\n",
    "print(f\"P-value: {p}\")\n",
    "print(f\"Degrees of freedom: {dof}\")\n",
    "print(\"Expected frequencies:\")\n",
    "print(expected)"
   ]
  },
  {
   "cell_type": "code",
   "execution_count": null,
   "id": "5ee65686",
   "metadata": {},
   "outputs": [],
   "source": [
    "df4 = pd.read_csv('/users/lauragallo/Desktop/DATA/MFoA-data-weekly.csv')\n",
    "\n",
    "# Check for NaN values\n",
    "print(\"NaN values:\\n\", df4.isnull().sum())\n",
    "\n",
    "\n"
   ]
  },
  {
   "cell_type": "code",
   "execution_count": null,
   "id": "fc05d939",
   "metadata": {},
   "outputs": [],
   "source": [
    "# Check data types of each column\n",
    "print(\"Data Types:\\n\", df4.dtypes)"
   ]
  },
  {
   "cell_type": "code",
   "execution_count": null,
   "id": "d44e20ed",
   "metadata": {},
   "outputs": [],
   "source": [
    "# Convert data types of numeric columns to float64\n",
    "numeric_columns = ['STAI', 'FLOW', 'Arousal', 'Positivity']\n",
    "df4[numeric_columns] = df4[numeric_columns].astype(float)\n",
    "\n",
    "# Check data types after conversion\n",
    "print(\"Updated Data Types:\\n\", df4.dtypes)\n",
    "\n",
    "# Handle non-numeric values (e.g., convert 'inf' values to NaN)\n",
    "df4.replace([np.inf, -np.inf], np.nan, inplace=True)\n",
    "\n",
    "# Apply np.isinf() only to numeric columns\n",
    "inf_values = df4[numeric_columns].apply(lambda x: np.isinf(x)).sum()\n",
    "\n",
    "# Print the number of infinity values in each column\n",
    "print(\"Inf values after dropping:\\n\", inf_values)"
   ]
  },
  {
   "cell_type": "code",
   "execution_count": null,
   "id": "6ec0bfdb",
   "metadata": {},
   "outputs": [],
   "source": [
    "import statsmodels.api as sm\n",
    "from statsmodels.formula.api import ols\n",
    "from statsmodels.stats.anova import anova_lm\n",
    "\n",
    "# Fit the OLS model\n",
    "model = ols('STAI ~ C(ID, Sum) * C(Week_number, Sum)', data=df4).fit()\n",
    "\n",
    "# Perform the ANOVA\n",
    "anova_results = anova_lm(model, typ=2)\n",
    "\n",
    "print(anova_results)\n"
   ]
  },
  {
   "cell_type": "code",
   "execution_count": null,
   "id": "019567cb",
   "metadata": {},
   "outputs": [],
   "source": [
    "import statsmodels.api as sm\n",
    "from statsmodels.formula.api import ols\n",
    "\n",
    "# Assuming 'df' is your DataFrame containing the data\n",
    "# 'dependent_variable' is the name of your dependent variable column\n",
    "# 'independent_variables' is a list of names of your independent variables\n",
    "# 'data' is the DataFrame containing your data\n",
    "\n",
    "# Construct the formula string\n",
    "formula = 'STAI ~ ' + ' + '.join(['ID', 'Week_number'])\n",
    "\n",
    "# Fit the model\n",
    "model = ols(formula, data=df4).fit()\n",
    "\n",
    "# Perform ANOVA\n",
    "anova_table = sm.stats.anova_lm(model, typ=3)\n",
    "\n",
    "# Print the ANOVA table with Type III sum of squares\n",
    "print(anova_table)"
   ]
  },
  {
   "cell_type": "code",
   "execution_count": null,
   "id": "a40ba1da",
   "metadata": {},
   "outputs": [],
   "source": [
    "import statsmodels.api as sm\n",
    "from statsmodels.formula.api import ols\n",
    "\n",
    "# Assuming 'df' is your DataFrame containing the data\n",
    "# 'dependent_variable' is the name of your dependent variable column\n",
    "# 'independent_variables' is a list of names of your independent variables\n",
    "# 'data' is the DataFrame containing your data\n",
    "\n",
    "# Construct the formula string\n",
    "formula = 'STAI ~ ' + ' + '.join(['ID', 'Week_number'])\n",
    "\n",
    "# Fit the model\n",
    "model = ols(formula, data=df4).fit()\n",
    "\n",
    "# Perform ANOVA\n",
    "anova_table = sm.stats.anova_lm(model, typ=1)\n",
    "\n",
    "# Print the ANOVA table with Type I sum of squares\n",
    "print(anova_table)"
   ]
  },
  {
   "cell_type": "code",
   "execution_count": null,
   "id": "cbff2611",
   "metadata": {},
   "outputs": [],
   "source": [
    "import plotly.express as px\n",
    "color_scale_min = -18\n",
    "color_scale_max = 8\n",
    "df = px.data.wind()\n",
    "fig = px.bar_polar(MFOA, r=\"VAIAK\", theta=\"ID\", color=\"STAI-change\", range_color=[color_scale_min, color_scale_max],\n",
    "                   template=\"plotly_dark\",\n",
    "                   color_continuous_scale= px.colors.sequential.Plasma_r,\n",
    "                   title=\"Participant's Art Interest and Art Knowledge Effect on Art Intervention\"                  \n",
    ")\n",
    "# Customize the title font size\n",
    "fig.update_layout(title=dict(font=dict(size=24)))  # Adjust the size as needed\n",
    "\n",
    "fig.show()"
   ]
  },
  {
   "cell_type": "code",
   "execution_count": null,
   "id": "07ae58b5",
   "metadata": {},
   "outputs": [],
   "source": [
    "import plotly.express as px\n",
    "color_scale_min = -18\n",
    "color_scale_max = 8\n",
    "df = px.data.wind()\n",
    "fig = px.bar_polar(MFOA, r=\"SSCS\", theta=\"ID\", color=\"STAI-change\", range_color=[color_scale_min, color_scale_max],\n",
    "                   template=\"plotly_dark\",\n",
    "                   color_continuous_scale=px.colors.sequential.Viridis,\n",
    "                   title=\"Participant's Self-perceived levels of creativity Effect on Art Intervention\"                  \n",
    ")\n",
    "# Customize the title font size\n",
    "fig.update_layout(title=dict(font=dict(size=24)))  # Adjust the size as needed\n",
    "\n",
    "fig.show()"
   ]
  },
  {
   "cell_type": "code",
   "execution_count": null,
   "id": "b3ee38c1",
   "metadata": {},
   "outputs": [],
   "source": [
    "Weekly.hist(figsize = (10, 8), grid = False, color= '#7c1c5b');"
   ]
  },
  {
   "cell_type": "code",
   "execution_count": null,
   "id": "bf0e177b",
   "metadata": {},
   "outputs": [],
   "source": []
  },
  {
   "cell_type": "code",
   "execution_count": null,
   "id": "87683af3",
   "metadata": {},
   "outputs": [],
   "source": []
  },
  {
   "cell_type": "code",
   "execution_count": null,
   "id": "8b337c50",
   "metadata": {},
   "outputs": [],
   "source": []
  }
 ],
 "metadata": {
  "kernelspec": {
   "display_name": "Python 3 (ipykernel)",
   "language": "python",
   "name": "python3"
  },
  "language_info": {
   "codemirror_mode": {
    "name": "ipython",
    "version": 3
   },
   "file_extension": ".py",
   "mimetype": "text/x-python",
   "name": "python",
   "nbconvert_exporter": "python",
   "pygments_lexer": "ipython3",
   "version": "3.11.7"
  }
 },
 "nbformat": 4,
 "nbformat_minor": 5
}
